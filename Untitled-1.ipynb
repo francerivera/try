{
 "cells": [
  {
   "cell_type": "code",
   "execution_count": 2,
   "metadata": {},
   "outputs": [
    {
     "data": {
      "text/plain": [
       "'RGAPI-36ee4d1e-c312-4f2b-b43c-58a1a710e756'"
      ]
     },
     "execution_count": 2,
     "metadata": {},
     "output_type": "execute_result"
    }
   ],
   "source": [
    "api_key = \"RGAPI-36ee4d1e-c312-4f2b-b43c-58a1a710e756\"\n",
    "api_key"
   ]
  },
  {
   "cell_type": "code",
   "execution_count": 3,
   "metadata": {},
   "outputs": [
    {
     "data": {
      "text/plain": [
       "<Response [401]>"
      ]
     },
     "execution_count": 3,
     "metadata": {},
     "output_type": "execute_result"
    }
   ],
   "source": [
    "api_url = \"https://ph2.api.riotgames.com/lol/summoner/v4/summoners/by-puuid/qGeloSe4U5pVnGOLFeLeV7OuwETe3-00mg7v3F6cmM2pWNnl504gkN8IigSdGdTIZQokao3FurDUMA\"\n",
    "import requests\n",
    "requests.get(api_url)"
   ]
  },
  {
   "cell_type": "code",
   "execution_count": 4,
   "metadata": {},
   "outputs": [
    {
     "data": {
      "text/plain": [
       "'https://ph2.api.riotgames.com/lol/summoner/v4/summoners/by-puuid/qGeloSe4U5pVnGOLFeLeV7OuwETe3-00mg7v3F6cmM2pWNnl504gkN8IigSdGdTIZQokao3FurDUMA?api_key=RGAPI-36ee4d1e-c312-4f2b-b43c-58a1a710e756'"
      ]
     },
     "execution_count": 4,
     "metadata": {},
     "output_type": "execute_result"
    }
   ],
   "source": [
    "api_url = api_url + '?api_key=' + api_key\n",
    "api_url"
   ]
  },
  {
   "cell_type": "code",
   "execution_count": 8,
   "metadata": {},
   "outputs": [
    {
     "data": {
      "text/plain": [
       "{'id': 'kGvHEkr9xyhKlPYzlAPXNOBBUQ5WuefF-MYCgSSRRd24UQvtlJCyTKIm3g',\n",
       " 'accountId': 'rXWpKHBLfV1PK2zA7ryoDlyTD-rIZp793iCgkg9P9TscPcE8cDwBnnt7',\n",
       " 'puuid': 'qGeloSe4U5pVnGOLFeLeV7OuwETe3-00mg7v3F6cmM2pWNnl504gkN8IigSdGdTIZQokao3FurDUMA',\n",
       " 'profileIconId': 3232,\n",
       " 'revisionDate': 1726931972209,\n",
       " 'summonerLevel': 548}"
      ]
     },
     "execution_count": 8,
     "metadata": {},
     "output_type": "execute_result"
    }
   ],
   "source": [
    "resp = requests.get(api_url)\n",
    "player_info = resp.json()\n",
    "player_accoount_id = player_info['accountId']\n",
    "player_accoount_id\n",
    "player_info"
   ]
  },
  {
   "cell_type": "code",
   "execution_count": 6,
   "metadata": {},
   "outputs": [],
   "source": [
    "# import requests\n",
    "\n",
    "# api_key = \"RGAPI-36ee4d1e-c312-4f2b-b43c-58a1a710e756\"\n",
    "# api_url = \"https://ph2.api.riotgames.com/lol/summoner/v4/summoners/by-puuid/qGeloSe4U5pVnGOLFeLeV7OuwETe3-00mg7v3F6cmM2pWNnl504gkN8IigSdGdTIZQokao3FurDUMA\"\n",
    "\n",
    "# # Append API key to URL\n",
    "# api_url = api_url + '?api_key=' + api_key\n",
    "\n",
    "# # Make the request\n",
    "# resp = requests.get(api_url)\n",
    "\n",
    "# # Check if response is OK\n",
    "# if resp.status_code == 200:\n",
    "#     player_info = resp.json()\n",
    "#     print(player_info)\n",
    "# else:\n",
    "#     print(f\"Error: {resp.status_code}, {resp.json()}\")\n"
   ]
  },
  {
   "cell_type": "code",
   "execution_count": 11,
   "metadata": {},
   "outputs": [
    {
     "data": {
      "text/plain": [
       "'https://sea.api.riotgames.com/lol/match/v5/matches/by-puuid/qGeloSe4U5pVnGOLFeLeV7OuwETe3-00mg7v3F6cmM2pWNnl504gkN8IigSdGdTIZQokao3FurDUMA/ids?start=0&count=20&api_key=RGAPI-36ee4d1e-c312-4f2b-b43c-58a1a710e756'"
      ]
     },
     "execution_count": 11,
     "metadata": {},
     "output_type": "execute_result"
    }
   ],
   "source": [
    "api_url = \"https://sea.api.riotgames.com/lol/match/v5/matches/by-puuid/qGeloSe4U5pVnGOLFeLeV7OuwETe3-00mg7v3F6cmM2pWNnl504gkN8IigSdGdTIZQokao3FurDUMA/ids?start=0&count=20\"\n",
    "api_url = api_url + \"&api_key=\" + api_key\n",
    "api_url"
   ]
  },
  {
   "cell_type": "code",
   "execution_count": 13,
   "metadata": {},
   "outputs": [
    {
     "data": {
      "text/plain": [
       "['PH2_66821334',\n",
       " 'PH2_66819205',\n",
       " 'PH2_66814212',\n",
       " 'PH2_66713715',\n",
       " 'PH2_66708601',\n",
       " 'PH2_66705306',\n",
       " 'PH2_66702228',\n",
       " 'PH2_66611966',\n",
       " 'PH2_66611181',\n",
       " 'PH2_66552550',\n",
       " 'PH2_66511919',\n",
       " 'PH2_66449215',\n",
       " 'PH2_66370649',\n",
       " 'PH2_66307020',\n",
       " 'PH2_66088357',\n",
       " 'PH2_66086386',\n",
       " 'PH2_66077704',\n",
       " 'PH2_66034726',\n",
       " 'PH2_66034060',\n",
       " 'PH2_65455729']"
      ]
     },
     "execution_count": 13,
     "metadata": {},
     "output_type": "execute_result"
    }
   ],
   "source": [
    "resp = requests.get(api_url)\n",
    "matches = resp.json()\n",
    "match = matches[0]\n",
    "matches"
   ]
  },
  {
   "cell_type": "code",
   "execution_count": 15,
   "metadata": {},
   "outputs": [
    {
     "data": {
      "text/plain": [
       "'https://sea.api.riotgames.com/lol/match/v5/matches/PH2_66821334?api_key=RGAPI-36ee4d1e-c312-4f2b-b43c-58a1a710e756'"
      ]
     },
     "execution_count": 15,
     "metadata": {},
     "output_type": "execute_result"
    }
   ],
   "source": [
    "api_url = \"https://sea.api.riotgames.com/lol/match/v5/matches/PH2_66821334\"\n",
    "api_url = api_url + \"?api_key=\" + api_key\n",
    "api_url"
   ]
  },
  {
   "cell_type": "code",
   "execution_count": 19,
   "metadata": {},
   "outputs": [
    {
     "data": {
      "text/plain": [
       "dict_keys(['metadata', 'info'])"
      ]
     },
     "execution_count": 19,
     "metadata": {},
     "output_type": "execute_result"
    }
   ],
   "source": [
    "resp = requests.get(api_url)\n",
    "match_data = resp.json()\n",
    "match_data.keys()"
   ]
  },
  {
   "cell_type": "code",
   "execution_count": 20,
   "metadata": {},
   "outputs": [
    {
     "data": {
      "text/plain": [
       "{'dataVersion': '2',\n",
       " 'matchId': 'PH2_66821334',\n",
       " 'participants': ['kLiOsLo64cCUPDLKzgtGa45CjJI60Wg4bjhkfaHpDAf0XP45UxZB5NIsuhdh-jUYhO_u3YueEkM5OQ',\n",
       "  'ir_WKshe_F-kdm1Y2XEegfcklbx_u0w9lsi1ZadzGB7kC9g1nodyJUGx1X8naoFAK0ME5PNC3zro6Q',\n",
       "  'B9Gi3FUcu9JnVGFjLAIQH7VydOPS7mG_QkGHyRD7jCkdMuNMCVgT3ik8jS2Vjb2ScsnNtgddoVkGoA',\n",
       "  'qGeloSe4U5pVnGOLFeLeV7OuwETe3-00mg7v3F6cmM2pWNnl504gkN8IigSdGdTIZQokao3FurDUMA',\n",
       "  'MNOtxgQze3lnckgItF33EqHmClyWsnnEork8WdRAIrn0U-2WLjg_gVg0wBX-wp9cHAGWnnS_eWm24g',\n",
       "  'FePtJMhrWkmiOsgSLS3iTnT7ZZrTS1kgWc-3EdAUf4JULmBCy6uLKJDJPWYc2Jb80rz-GPq9UaMoLg',\n",
       "  '_RT3DYrzEf3VkUwMdhEyxfB4I4UWKhjvZbIady2W8cVRJNVyMOMGwgfdfnhBTODhkAyMzW0x80DKDg',\n",
       "  'rDYGJHFFhZIVnAvNB1DWgaxIs7mfCrWlisHdmiFvY375hTd0KSXJZ2f5bKVSDWR23Kyr-LDCJVh-GA',\n",
       "  'y_h1-LLUob-QyXztQp-V1t1dM1-32Di2bokCvBbo8l0Dxx2OVHJ9bwUJLDh1d3m5ydxnXlXIoUY7dg',\n",
       "  'SvVB-1dj-_Xq94YDB8pzjikguAGQedMef8VY7tEnjJubNSzJFm8vaYCFxnuYl65w_gRiGQj2lXuAiw']}"
      ]
     },
     "execution_count": 20,
     "metadata": {},
     "output_type": "execute_result"
    }
   ],
   "source": [
    "match_data['metadata']"
   ]
  },
  {
   "cell_type": "code",
   "execution_count": 31,
   "metadata": {},
   "outputs": [
    {
     "data": {
      "text/plain": [
       "{'allInPings': 0,\n",
       " 'assistMePings': 1,\n",
       " 'assists': 9,\n",
       " 'baronKills': 0,\n",
       " 'basicPings': 0,\n",
       " 'bountyLevel': 0,\n",
       " 'challenges': {'12AssistStreakCount': 0,\n",
       "  'InfernalScalePickup': 0,\n",
       "  'SWARM_DefeatAatrox': 0,\n",
       "  'SWARM_DefeatBriar': 0,\n",
       "  'SWARM_DefeatMiniBosses': 0,\n",
       "  'SWARM_EvolveWeapon': 0,\n",
       "  'SWARM_Have3Passives': 0,\n",
       "  'SWARM_KillEnemy': 0,\n",
       "  'SWARM_PickupGold': 0,\n",
       "  'SWARM_ReachLevel50': 0,\n",
       "  'SWARM_Survive15Min': 0,\n",
       "  'SWARM_WinWith5EvolvedWeapons': 0,\n",
       "  'abilityUses': 675,\n",
       "  'acesBefore15Minutes': 0,\n",
       "  'alliedJungleMonsterKills': 6,\n",
       "  'baronTakedowns': 1,\n",
       "  'blastConeOppositeOpponentCount': 0,\n",
       "  'bountyGold': 375,\n",
       "  'buffsStolen': 0,\n",
       "  'completeSupportQuestInTime': 0,\n",
       "  'controlWardsPlaced': 0,\n",
       "  'damagePerMinute': 935.0066505862397,\n",
       "  'damageTakenOnTeamPercentage': 0.16873625807199344,\n",
       "  'dancedWithRiftHerald': 0,\n",
       "  'deathsByEnemyChamps': 4,\n",
       "  'dodgeSkillShotsSmallWindow': 0,\n",
       "  'doubleAces': 0,\n",
       "  'dragonTakedowns': 3,\n",
       "  'earliestBaron': 1306.902862095,\n",
       "  'earliestDragonTakedown': 911.993208123,\n",
       "  'earlyLaningPhaseGoldExpAdvantage': 0,\n",
       "  'effectiveHealAndShielding': 0,\n",
       "  'elderDragonKillsWithOpposingSoul': 0,\n",
       "  'elderDragonMultikills': 0,\n",
       "  'enemyChampionImmobilizations': 10,\n",
       "  'enemyJungleMonsterKills': 0,\n",
       "  'epicMonsterKillsNearEnemyJungler': 0,\n",
       "  'epicMonsterKillsWithin30SecondsOfSpawn': 0,\n",
       "  'epicMonsterSteals': 0,\n",
       "  'epicMonsterStolenWithoutSmite': 0,\n",
       "  'firstTurretKilled': 1,\n",
       "  'firstTurretKilledTime': 744.1428191040001,\n",
       "  'fistBumpParticipation': 0,\n",
       "  'flawlessAces': 0,\n",
       "  'fullTeamTakedown': 0,\n",
       "  'gameLength': 1950.398476558,\n",
       "  'getTakedownsInAllLanesEarlyJungleAsLaner': 0,\n",
       "  'goldPerMinute': 412.79335126344785,\n",
       "  'hadOpenNexus': 0,\n",
       "  'immobilizeAndKillWithAlly': 2,\n",
       "  'initialBuffCount': 0,\n",
       "  'initialCrabCount': 0,\n",
       "  'jungleCsBefore10Minutes': 0,\n",
       "  'junglerTakedownsNearDamagedEpicMonster': 1,\n",
       "  'kTurretsDestroyedBeforePlatesFall': 1,\n",
       "  'kda': 3.25,\n",
       "  'killAfterHiddenWithAlly': 4,\n",
       "  'killParticipation': 0.5,\n",
       "  'killedChampTookFullTeamDamageSurvived': 0,\n",
       "  'killingSprees': 1,\n",
       "  'killsNearEnemyTurret': 0,\n",
       "  'killsOnOtherLanesEarlyJungleAsLaner': 0,\n",
       "  'killsOnRecentlyHealedByAramPack': 0,\n",
       "  'killsUnderOwnTurret': 0,\n",
       "  'killsWithHelpFromEpicMonster': 0,\n",
       "  'knockEnemyIntoTeamAndKill': 0,\n",
       "  'landSkillShotsEarlyGame': 0,\n",
       "  'laneMinionsFirst10Minutes': 79,\n",
       "  'laningPhaseGoldExpAdvantage': 1,\n",
       "  'legendaryCount': 0,\n",
       "  'legendaryItemUsed': [3003, 3040, 4629, 3089],\n",
       "  'lostAnInhibitor': 0,\n",
       "  'maxCsAdvantageOnLaneOpponent': 33.99999988079071,\n",
       "  'maxKillDeficit': 0,\n",
       "  'maxLevelLeadLaneOpponent': 3,\n",
       "  'mejaisFullStackInTime': 0,\n",
       "  'moreEnemyJungleThanOpponent': 0,\n",
       "  'multiKillOneSpell': 0,\n",
       "  'multiTurretRiftHeraldCount': 0,\n",
       "  'multikills': 0,\n",
       "  'multikillsAfterAggressiveFlash': 0,\n",
       "  'outerTurretExecutesBefore10Minutes': 0,\n",
       "  'outnumberedKills': 1,\n",
       "  'outnumberedNexusKill': 0,\n",
       "  'perfectDragonSoulsTaken': 0,\n",
       "  'perfectGame': 0,\n",
       "  'pickKillWithAlly': 12,\n",
       "  'playedChampSelectPosition': 1,\n",
       "  'poroExplosions': 0,\n",
       "  'quickCleanse': 0,\n",
       "  'quickFirstTurret': 0,\n",
       "  'quickSoloKills': 0,\n",
       "  'riftHeraldTakedowns': 0,\n",
       "  'saveAllyFromDeath': 0,\n",
       "  'scuttleCrabKills': 0,\n",
       "  'skillshotsDodged': 16,\n",
       "  'skillshotsHit': 2,\n",
       "  'snowballsHit': 0,\n",
       "  'soloBaronKills': 0,\n",
       "  'soloKills': 0,\n",
       "  'stealthWardsPlaced': 4,\n",
       "  'survivedSingleDigitHpCount': 0,\n",
       "  'survivedThreeImmobilizesInFight': 0,\n",
       "  'takedownOnFirstTurret': 1,\n",
       "  'takedowns': 13,\n",
       "  'takedownsAfterGainingLevelAdvantage': 0,\n",
       "  'takedownsBeforeJungleMinionSpawn': 0,\n",
       "  'takedownsFirstXMinutes': 4,\n",
       "  'takedownsInAlcove': 0,\n",
       "  'takedownsInEnemyFountain': 0,\n",
       "  'teamBaronKills': 1,\n",
       "  'teamDamagePercentage': 0.2806236070539166,\n",
       "  'teamElderDragonKills': 0,\n",
       "  'teamRiftHeraldKills': 0,\n",
       "  'tookLargeDamageSurvived': 0,\n",
       "  'turretPlatesTaken': 5,\n",
       "  'turretTakedowns': 2,\n",
       "  'turretsTakenWithRiftHerald': 0,\n",
       "  'twentyMinionsIn3SecondsCount': 0,\n",
       "  'twoWardsOneSweeperCount': 0,\n",
       "  'unseenRecalls': 0,\n",
       "  'visionScoreAdvantageLaneOpponent': 0.3667999505996704,\n",
       "  'visionScorePerMinute': 0.9910814204686293,\n",
       "  'voidMonsterKill': 4,\n",
       "  'wardTakedowns': 0,\n",
       "  'wardTakedownsBefore20M': 0,\n",
       "  'wardsGuarded': 0},\n",
       " 'champExperience': 16000,\n",
       " 'champLevel': 16,\n",
       " 'championId': 13,\n",
       " 'championName': 'Ryze',\n",
       " 'championTransform': 0,\n",
       " 'commandPings': 15,\n",
       " 'consumablesPurchased': 2,\n",
       " 'damageDealtToBuildings': 3956,\n",
       " 'damageDealtToObjectives': 30958,\n",
       " 'damageDealtToTurrets': 3956,\n",
       " 'damageSelfMitigated': 21491,\n",
       " 'dangerPings': 0,\n",
       " 'deaths': 4,\n",
       " 'detectorWardsPlaced': 0,\n",
       " 'doubleKills': 0,\n",
       " 'dragonKills': 0,\n",
       " 'eligibleForProgression': True,\n",
       " 'enemyMissingPings': 32,\n",
       " 'enemyVisionPings': 4,\n",
       " 'firstBloodAssist': False,\n",
       " 'firstBloodKill': False,\n",
       " 'firstTowerAssist': False,\n",
       " 'firstTowerKill': True,\n",
       " 'gameEndedInEarlySurrender': False,\n",
       " 'gameEndedInSurrender': False,\n",
       " 'getBackPings': 0,\n",
       " 'goldEarned': 13418,\n",
       " 'goldSpent': 12200,\n",
       " 'holdPings': 0,\n",
       " 'individualPosition': 'MIDDLE',\n",
       " 'inhibitorKills': 0,\n",
       " 'inhibitorTakedowns': 0,\n",
       " 'inhibitorsLost': 1,\n",
       " 'item0': 3158,\n",
       " 'item1': 2421,\n",
       " 'item2': 3089,\n",
       " 'item3': 3040,\n",
       " 'item4': 4629,\n",
       " 'item5': 0,\n",
       " 'item6': 3363,\n",
       " 'itemsPurchased': 21,\n",
       " 'killingSprees': 1,\n",
       " 'kills': 4,\n",
       " 'lane': 'TOP',\n",
       " 'largestCriticalStrike': 0,\n",
       " 'largestKillingSpree': 3,\n",
       " 'largestMultiKill': 1,\n",
       " 'longestTimeSpentLiving': 1351,\n",
       " 'magicDamageDealt': 226955,\n",
       " 'magicDamageDealtToChampions': 29815,\n",
       " 'magicDamageTaken': 3618,\n",
       " 'missions': {'playerScore0': 0,\n",
       "  'playerScore1': 0,\n",
       "  'playerScore2': 0,\n",
       "  'playerScore3': 0,\n",
       "  'playerScore4': 0,\n",
       "  'playerScore5': 0,\n",
       "  'playerScore6': 0,\n",
       "  'playerScore7': 0,\n",
       "  'playerScore8': 0,\n",
       "  'playerScore9': 0,\n",
       "  'playerScore10': 0,\n",
       "  'playerScore11': 0},\n",
       " 'needVisionPings': 1,\n",
       " 'neutralMinionsKilled': 16,\n",
       " 'nexusKills': 0,\n",
       " 'nexusLost': 1,\n",
       " 'nexusTakedowns': 0,\n",
       " 'objectivesStolen': 0,\n",
       " 'objectivesStolenAssists': 0,\n",
       " 'onMyWayPings': 9,\n",
       " 'participantId': 3,\n",
       " 'pentaKills': 0,\n",
       " 'perks': {'statPerks': {'defense': 5001, 'flex': 5008, 'offense': 5007},\n",
       "  'styles': [{'description': 'primaryStyle',\n",
       "    'selections': [{'perk': 8230, 'var1': 21, 'var2': 0, 'var3': 0},\n",
       "     {'perk': 8226, 'var1': 250, 'var2': 1550, 'var3': 0},\n",
       "     {'perk': 8210, 'var1': 7, 'var2': 0, 'var3': 0},\n",
       "     {'perk': 8236, 'var1': 48, 'var2': 0, 'var3': 0}],\n",
       "    'style': 8200},\n",
       "   {'description': 'subStyle',\n",
       "    'selections': [{'perk': 8473, 'var1': 551, 'var2': 0, 'var3': 0},\n",
       "     {'perk': 8451, 'var1': 233, 'var2': 0, 'var3': 0}],\n",
       "    'style': 8400}]},\n",
       " 'physicalDamageDealt': 12650,\n",
       " 'physicalDamageDealtToChampions': 578,\n",
       " 'physicalDamageTaken': 21811,\n",
       " 'placement': 0,\n",
       " 'playerAugment1': 0,\n",
       " 'playerAugment2': 0,\n",
       " 'playerAugment3': 0,\n",
       " 'playerAugment4': 0,\n",
       " 'playerAugment5': 0,\n",
       " 'playerAugment6': 0,\n",
       " 'playerSubteamId': 0,\n",
       " 'profileIcon': 5597,\n",
       " 'pushPings': 0,\n",
       " 'puuid': 'B9Gi3FUcu9JnVGFjLAIQH7VydOPS7mG_QkGHyRD7jCkdMuNMCVgT3ik8jS2Vjb2ScsnNtgddoVkGoA',\n",
       " 'quadraKills': 0,\n",
       " 'riotIdGameName': 'Inacent',\n",
       " 'riotIdTagline': 'tako',\n",
       " 'role': 'SOLO',\n",
       " 'sightWardsBoughtInGame': 0,\n",
       " 'spell1Casts': 306,\n",
       " 'spell2Casts': 93,\n",
       " 'spell3Casts': 269,\n",
       " 'spell4Casts': 7,\n",
       " 'subteamPlacement': 0,\n",
       " 'summoner1Casts': 2,\n",
       " 'summoner1Id': 4,\n",
       " 'summoner2Casts': 3,\n",
       " 'summoner2Id': 12,\n",
       " 'summonerId': '9nhjK2r0X3a0NHMftXBBWrqIgecf1_5RSC9E1hEk9GdI806rvgVNd_QIvw',\n",
       " 'summonerLevel': 381,\n",
       " 'summonerName': 'Inacent',\n",
       " 'teamEarlySurrendered': False,\n",
       " 'teamId': 100,\n",
       " 'teamPosition': 'MIDDLE',\n",
       " 'timeCCingOthers': 19,\n",
       " 'timePlayed': 1950,\n",
       " 'totalAllyJungleMinionsKilled': 10,\n",
       " 'totalDamageDealt': 241326,\n",
       " 'totalDamageDealtToChampions': 30393,\n",
       " 'totalDamageShieldedOnTeammates': 0,\n",
       " 'totalDamageTaken': 26501,\n",
       " 'totalEnemyJungleMinionsKilled': 0,\n",
       " 'totalHeal': 3259,\n",
       " 'totalHealsOnTeammates': 0,\n",
       " 'totalMinionsKilled': 218,\n",
       " 'totalTimeCCDealt': 72,\n",
       " 'totalTimeSpentDead': 188,\n",
       " 'totalUnitsHealed': 1,\n",
       " 'tripleKills': 0,\n",
       " 'trueDamageDealt': 1721,\n",
       " 'trueDamageDealtToChampions': 0,\n",
       " 'trueDamageTaken': 1071,\n",
       " 'turretKills': 2,\n",
       " 'turretTakedowns': 2,\n",
       " 'turretsLost': 8,\n",
       " 'unrealKills': 0,\n",
       " 'visionClearedPings': 0,\n",
       " 'visionScore': 32,\n",
       " 'visionWardsBoughtInGame': 0,\n",
       " 'wardsKilled': 0,\n",
       " 'wardsPlaced': 11,\n",
       " 'win': False}"
      ]
     },
     "execution_count": 31,
     "metadata": {},
     "output_type": "execute_result"
    }
   ],
   "source": [
    "match_data['info']['participants'][2]\n"
   ]
  },
  {
   "cell_type": "code",
   "execution_count": 34,
   "metadata": {},
   "outputs": [],
   "source": [
    "puuid = player_info['puuid']\n"
   ]
  },
  {
   "cell_type": "code",
   "execution_count": null,
   "metadata": {},
   "outputs": [],
   "source": [
    "puuid = 'qGeloSe4U5pVnGOLFeLeV7OuwETe3-00mg7v3F6cmM2pWNnl504gkN8IigSdGdTIZQokao3FurDUMA'"
   ]
  },
  {
   "cell_type": "code",
   "execution_count": 36,
   "metadata": {},
   "outputs": [
    {
     "data": {
      "text/plain": [
       "3"
      ]
     },
     "execution_count": 36,
     "metadata": {},
     "output_type": "execute_result"
    }
   ],
   "source": [
    "part_index = match_data['metadata']['participants'].index(puuid)\n",
    "part_index"
   ]
  },
  {
   "cell_type": "code",
   "execution_count": 41,
   "metadata": {},
   "outputs": [
    {
     "data": {
      "text/plain": [
       "6"
      ]
     },
     "execution_count": 41,
     "metadata": {},
     "output_type": "execute_result"
    }
   ],
   "source": [
    "match_data['info']['participants'][part_index]['deaths']"
   ]
  },
  {
   "cell_type": "code",
   "execution_count": 45,
   "metadata": {},
   "outputs": [
    {
     "data": {
      "text/plain": [
       "10"
      ]
     },
     "execution_count": 45,
     "metadata": {},
     "output_type": "execute_result"
    }
   ],
   "source": [
    "match_data['info']['gameDuration'] / 60\n",
    "len(match_data['info']['participants'])"
   ]
  }
 ],
 "metadata": {
  "kernelspec": {
   "display_name": "Python 3",
   "language": "python",
   "name": "python3"
  },
  "language_info": {
   "codemirror_mode": {
    "name": "ipython",
    "version": 3
   },
   "file_extension": ".py",
   "mimetype": "text/x-python",
   "name": "python",
   "nbconvert_exporter": "python",
   "pygments_lexer": "ipython3",
   "version": "3.11.9"
  }
 },
 "nbformat": 4,
 "nbformat_minor": 2
}
