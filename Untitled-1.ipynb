{
 "cells": [
  {
   "cell_type": "code",
   "execution_count": 44,
   "metadata": {},
   "outputs": [
    {
     "data": {
      "text/plain": [
       "'RGAPI-d93d72d5-4625-4561-9f3e-ebae1e22ba75'"
      ]
     },
     "execution_count": 44,
     "metadata": {},
     "output_type": "execute_result"
    }
   ],
   "source": [
    "api_key = \"RGAPI-d93d72d5-4625-4561-9f3e-ebae1e22ba75\"\n",
    "api_key"
   ]
  },
  {
   "cell_type": "code",
   "execution_count": 45,
   "metadata": {},
   "outputs": [
    {
     "data": {
      "text/plain": [
       "<Response [401]>"
      ]
     },
     "execution_count": 45,
     "metadata": {},
     "output_type": "execute_result"
    }
   ],
   "source": [
    "api_url = \"https://ph2.api.riotgames.com/lol/summoner/v4/summoners/by-puuid/qGeloSe4U5pVnGOLFeLeV7OuwETe3-00mg7v3F6cmM2pWNnl504gkN8IigSdGdTIZQokao3FurDUMA\"\n",
    "import requests\n",
    "requests.get(api_url)"
   ]
  },
  {
   "cell_type": "code",
   "execution_count": 46,
   "metadata": {},
   "outputs": [
    {
     "data": {
      "text/plain": [
       "'https://ph2.api.riotgames.com/lol/summoner/v4/summoners/by-puuid/qGeloSe4U5pVnGOLFeLeV7OuwETe3-00mg7v3F6cmM2pWNnl504gkN8IigSdGdTIZQokao3FurDUMA?api_key=RGAPI-d93d72d5-4625-4561-9f3e-ebae1e22ba75'"
      ]
     },
     "execution_count": 46,
     "metadata": {},
     "output_type": "execute_result"
    }
   ],
   "source": [
    "api_url = api_url + '?api_key=' + api_key\n",
    "api_url"
   ]
  },
  {
   "cell_type": "code",
   "execution_count": 47,
   "metadata": {},
   "outputs": [
    {
     "data": {
      "text/plain": [
       "{'id': 'kGvHEkr9xyhKlPYzlAPXNOBBUQ5WuefF-MYCgSSRRd24UQvtlJCyTKIm3g',\n",
       " 'accountId': 'rXWpKHBLfV1PK2zA7ryoDlyTD-rIZp793iCgkg9P9TscPcE8cDwBnnt7',\n",
       " 'puuid': 'qGeloSe4U5pVnGOLFeLeV7OuwETe3-00mg7v3F6cmM2pWNnl504gkN8IigSdGdTIZQokao3FurDUMA',\n",
       " 'profileIconId': 3232,\n",
       " 'revisionDate': 1727096523000,\n",
       " 'summonerLevel': 548}"
      ]
     },
     "execution_count": 47,
     "metadata": {},
     "output_type": "execute_result"
    }
   ],
   "source": [
    "resp = requests.get(api_url)\n",
    "player_info = resp.json()\n",
    "player_accoount_id = player_info['accountId']\n",
    "player_accoount_id\n",
    "player_info"
   ]
  },
  {
   "cell_type": "code",
   "execution_count": 48,
   "metadata": {},
   "outputs": [],
   "source": [
    "# import requests\n",
    "\n",
    "# api_key = \"RGAPI-36ee4d1e-c312-4f2b-b43c-58a1a710e756\"\n",
    "# api_url = \"https://ph2.api.riotgames.com/lol/summoner/v4/summoners/by-puuid/qGeloSe4U5pVnGOLFeLeV7OuwETe3-00mg7v3F6cmM2pWNnl504gkN8IigSdGdTIZQokao3FurDUMA\"\n",
    "\n",
    "# # Append API key to URL\n",
    "# api_url = api_url + '?api_key=' + api_key\n",
    "\n",
    "# # Make the request\n",
    "# resp = requests.get(api_url)\n",
    "\n",
    "# # Check if response is OK\n",
    "# if resp.status_code == 200:\n",
    "#     player_info = resp.json()\n",
    "#     print(player_info)\n",
    "# else:\n",
    "#     print(f\"Error: {resp.status_code}, {resp.json()}\")\n"
   ]
  },
  {
   "cell_type": "code",
   "execution_count": 49,
   "metadata": {},
   "outputs": [
    {
     "data": {
      "text/plain": [
       "'https://sea.api.riotgames.com/lol/match/v5/matches/by-puuid/qGeloSe4U5pVnGOLFeLeV7OuwETe3-00mg7v3F6cmM2pWNnl504gkN8IigSdGdTIZQokao3FurDUMA/ids?start=0&count=20&api_key=RGAPI-d93d72d5-4625-4561-9f3e-ebae1e22ba75'"
      ]
     },
     "execution_count": 49,
     "metadata": {},
     "output_type": "execute_result"
    }
   ],
   "source": [
    "api_url = \"https://sea.api.riotgames.com/lol/match/v5/matches/by-puuid/qGeloSe4U5pVnGOLFeLeV7OuwETe3-00mg7v3F6cmM2pWNnl504gkN8IigSdGdTIZQokao3FurDUMA/ids?start=0&count=20\"\n",
    "api_url = api_url + \"&api_key=\" + api_key\n",
    "api_url"
   ]
  },
  {
   "cell_type": "code",
   "execution_count": 50,
   "metadata": {},
   "outputs": [
    {
     "data": {
      "text/plain": [
       "['PH2_67014530',\n",
       " 'PH2_66821334',\n",
       " 'PH2_66819205',\n",
       " 'PH2_66814212',\n",
       " 'PH2_66713715',\n",
       " 'PH2_66708601',\n",
       " 'PH2_66705306',\n",
       " 'PH2_66702228',\n",
       " 'PH2_66611966',\n",
       " 'PH2_66611181',\n",
       " 'PH2_66552550',\n",
       " 'PH2_66511919',\n",
       " 'PH2_66449215',\n",
       " 'PH2_66370649',\n",
       " 'PH2_66307020',\n",
       " 'PH2_66088357',\n",
       " 'PH2_66086386',\n",
       " 'PH2_66077704',\n",
       " 'PH2_66034726',\n",
       " 'PH2_66034060']"
      ]
     },
     "execution_count": 50,
     "metadata": {},
     "output_type": "execute_result"
    }
   ],
   "source": [
    "resp = requests.get(api_url)\n",
    "match_data = resp.json()\n",
    "\n",
    "match_data"
   ]
  },
  {
   "cell_type": "code",
   "execution_count": 51,
   "metadata": {},
   "outputs": [
    {
     "ename": "AttributeError",
     "evalue": "'list' object has no attribute 'keys'",
     "output_type": "error",
     "traceback": [
      "\u001b[1;31m---------------------------------------------------------------------------\u001b[0m",
      "\u001b[1;31mAttributeError\u001b[0m                            Traceback (most recent call last)",
      "Cell \u001b[1;32mIn[51], line 1\u001b[0m\n\u001b[1;32m----> 1\u001b[0m \u001b[43mmatch_data\u001b[49m\u001b[38;5;241;43m.\u001b[39;49m\u001b[43mkeys\u001b[49m()\n",
      "\u001b[1;31mAttributeError\u001b[0m: 'list' object has no attribute 'keys'"
     ]
    }
   ],
   "source": [
    "match_data.keys()"
   ]
  },
  {
   "cell_type": "code",
   "execution_count": 100,
   "metadata": {},
   "outputs": [
    {
     "data": {
      "text/plain": [
       "{'dataVersion': '2',\n",
       " 'matchId': 'PH2_66821334',\n",
       " 'participants': ['kLiOsLo64cCUPDLKzgtGa45CjJI60Wg4bjhkfaHpDAf0XP45UxZB5NIsuhdh-jUYhO_u3YueEkM5OQ',\n",
       "  'ir_WKshe_F-kdm1Y2XEegfcklbx_u0w9lsi1ZadzGB7kC9g1nodyJUGx1X8naoFAK0ME5PNC3zro6Q',\n",
       "  'B9Gi3FUcu9JnVGFjLAIQH7VydOPS7mG_QkGHyRD7jCkdMuNMCVgT3ik8jS2Vjb2ScsnNtgddoVkGoA',\n",
       "  'qGeloSe4U5pVnGOLFeLeV7OuwETe3-00mg7v3F6cmM2pWNnl504gkN8IigSdGdTIZQokao3FurDUMA',\n",
       "  'MNOtxgQze3lnckgItF33EqHmClyWsnnEork8WdRAIrn0U-2WLjg_gVg0wBX-wp9cHAGWnnS_eWm24g',\n",
       "  'FePtJMhrWkmiOsgSLS3iTnT7ZZrTS1kgWc-3EdAUf4JULmBCy6uLKJDJPWYc2Jb80rz-GPq9UaMoLg',\n",
       "  '_RT3DYrzEf3VkUwMdhEyxfB4I4UWKhjvZbIady2W8cVRJNVyMOMGwgfdfnhBTODhkAyMzW0x80DKDg',\n",
       "  'rDYGJHFFhZIVnAvNB1DWgaxIs7mfCrWlisHdmiFvY375hTd0KSXJZ2f5bKVSDWR23Kyr-LDCJVh-GA',\n",
       "  'y_h1-LLUob-QyXztQp-V1t1dM1-32Di2bokCvBbo8l0Dxx2OVHJ9bwUJLDh1d3m5ydxnXlXIoUY7dg',\n",
       "  'SvVB-1dj-_Xq94YDB8pzjikguAGQedMef8VY7tEnjJubNSzJFm8vaYCFxnuYl65w_gRiGQj2lXuAiw']}"
      ]
     },
     "execution_count": 100,
     "metadata": {},
     "output_type": "execute_result"
    }
   ],
   "source": [
    "match_data['metadata']"
   ]
  },
  {
   "cell_type": "code",
   "execution_count": 101,
   "metadata": {},
   "outputs": [
    {
     "data": {
      "text/plain": [
       "'https://sea.api.riotgames.com/lol/match/v5/matches/by-puuid/qGeloSe4U5pVnGOLFeLeV7OuwETe3-00mg7v3F6cmM2pWNnl504gkN8IigSdGdTIZQokao3FurDUMA/ids?start=0&count=20?api_key=RGAPI-a141d23f-baa0-46b1-a17d-69ee1e4b1df0'"
      ]
     },
     "execution_count": 101,
     "metadata": {},
     "output_type": "execute_result"
    }
   ],
   "source": [
    "api_url = \"https://sea.api.riotgames.com/lol/match/v5/matches/PH2_66821334\"\n",
    "api_url = api_url + \"?api_key=\" + api_key\n",
    "api_url"
   ]
  },
  {
   "cell_type": "code",
   "execution_count": 31,
   "metadata": {},
   "outputs": [
    {
     "ename": "AttributeError",
     "evalue": "'list' object has no attribute 'keys'",
     "output_type": "error",
     "traceback": [
      "\u001b[1;31m---------------------------------------------------------------------------\u001b[0m",
      "\u001b[1;31mAttributeError\u001b[0m                            Traceback (most recent call last)",
      "Cell \u001b[1;32mIn[31], line 3\u001b[0m\n\u001b[0;32m      1\u001b[0m resp \u001b[38;5;241m=\u001b[39m requests\u001b[38;5;241m.\u001b[39mget(api_url)\n\u001b[0;32m      2\u001b[0m match_data \u001b[38;5;241m=\u001b[39m resp\u001b[38;5;241m.\u001b[39mjson()\n\u001b[1;32m----> 3\u001b[0m \u001b[43mmatch_data\u001b[49m\u001b[38;5;241;43m.\u001b[39;49m\u001b[43mkeys\u001b[49m()\n",
      "\u001b[1;31mAttributeError\u001b[0m: 'list' object has no attribute 'keys'"
     ]
    }
   ],
   "source": [
    "resp = requests.get(api_url)\n",
    "match_data = resp.json()\n",
    "match_data.keys()"
   ]
  },
  {
   "cell_type": "code",
   "execution_count": 32,
   "metadata": {},
   "outputs": [
    {
     "ename": "TypeError",
     "evalue": "list indices must be integers or slices, not str",
     "output_type": "error",
     "traceback": [
      "\u001b[1;31m---------------------------------------------------------------------------\u001b[0m",
      "\u001b[1;31mTypeError\u001b[0m                                 Traceback (most recent call last)",
      "Cell \u001b[1;32mIn[32], line 1\u001b[0m\n\u001b[1;32m----> 1\u001b[0m \u001b[43mmatch_data\u001b[49m\u001b[43m[\u001b[49m\u001b[38;5;124;43m'\u001b[39;49m\u001b[38;5;124;43mmetadata\u001b[39;49m\u001b[38;5;124;43m'\u001b[39;49m\u001b[43m]\u001b[49m\n",
      "\u001b[1;31mTypeError\u001b[0m: list indices must be integers or slices, not str"
     ]
    }
   ],
   "source": [
    "match_data['metadata']"
   ]
  },
  {
   "cell_type": "code",
   "execution_count": 33,
   "metadata": {},
   "outputs": [
    {
     "ename": "TypeError",
     "evalue": "list indices must be integers or slices, not str",
     "output_type": "error",
     "traceback": [
      "\u001b[1;31m---------------------------------------------------------------------------\u001b[0m",
      "\u001b[1;31mTypeError\u001b[0m                                 Traceback (most recent call last)",
      "Cell \u001b[1;32mIn[33], line 1\u001b[0m\n\u001b[1;32m----> 1\u001b[0m \u001b[43mmatch_data\u001b[49m\u001b[43m[\u001b[49m\u001b[38;5;124;43m'\u001b[39;49m\u001b[38;5;124;43minfo\u001b[39;49m\u001b[38;5;124;43m'\u001b[39;49m\u001b[43m]\u001b[49m[\u001b[38;5;124m'\u001b[39m\u001b[38;5;124mparticipants\u001b[39m\u001b[38;5;124m'\u001b[39m][\u001b[38;5;241m2\u001b[39m]\n",
      "\u001b[1;31mTypeError\u001b[0m: list indices must be integers or slices, not str"
     ]
    }
   ],
   "source": [
    "match_data['info']['participants'][2]\n"
   ]
  },
  {
   "cell_type": "code",
   "execution_count": 30,
   "metadata": {},
   "outputs": [],
   "source": [
    "puuid = player_info['puuid']\n"
   ]
  },
  {
   "cell_type": "code",
   "execution_count": null,
   "metadata": {},
   "outputs": [],
   "source": [
    "puuid = 'qGeloSe4U5pVnGOLFeLeV7OuwETe3-00mg7v3F6cmM2pWNnl504gkN8IigSdGdTIZQokao3FurDUMA'"
   ]
  },
  {
   "cell_type": "code",
   "execution_count": 34,
   "metadata": {},
   "outputs": [
    {
     "ename": "TypeError",
     "evalue": "list indices must be integers or slices, not str",
     "output_type": "error",
     "traceback": [
      "\u001b[1;31m---------------------------------------------------------------------------\u001b[0m",
      "\u001b[1;31mTypeError\u001b[0m                                 Traceback (most recent call last)",
      "Cell \u001b[1;32mIn[34], line 1\u001b[0m\n\u001b[1;32m----> 1\u001b[0m part_index \u001b[38;5;241m=\u001b[39m \u001b[43mmatch_data\u001b[49m\u001b[43m[\u001b[49m\u001b[38;5;124;43m'\u001b[39;49m\u001b[38;5;124;43mmetadata\u001b[39;49m\u001b[38;5;124;43m'\u001b[39;49m\u001b[43m]\u001b[49m[\u001b[38;5;124m'\u001b[39m\u001b[38;5;124mparticipants\u001b[39m\u001b[38;5;124m'\u001b[39m]\u001b[38;5;241m.\u001b[39mindex(puuid)\n\u001b[0;32m      2\u001b[0m part_index\n",
      "\u001b[1;31mTypeError\u001b[0m: list indices must be integers or slices, not str"
     ]
    }
   ],
   "source": [
    "part_index = match_data['metadata']['participants'].index(puuid)\n",
    "part_index"
   ]
  },
  {
   "cell_type": "code",
   "execution_count": 41,
   "metadata": {},
   "outputs": [
    {
     "data": {
      "text/plain": [
       "6"
      ]
     },
     "execution_count": 41,
     "metadata": {},
     "output_type": "execute_result"
    }
   ],
   "source": [
    "match_data['info']['participants'][part_index]['deaths']"
   ]
  },
  {
   "cell_type": "code",
   "execution_count": 45,
   "metadata": {},
   "outputs": [
    {
     "data": {
      "text/plain": [
       "10"
      ]
     },
     "execution_count": 45,
     "metadata": {},
     "output_type": "execute_result"
    }
   ],
   "source": [
    "match_data['info']['gameDuration'] / 60\n",
    "len(match_data['info']['participants'])"
   ]
  },
  {
   "cell_type": "code",
   "execution_count": null,
   "metadata": {},
   "outputs": [],
   "source": [
    "api_url = \"https://sea.api.riotgames.com/lol/match/v5/matches/by-puuid/qGeloSe4U5pVnGOLFeLeV7OuwETe3-00mg7v3F6cmM2pWNnl504gkN8IigSdGdTIZQokao3FurDUMA/ids?start=0&count=20\""
   ]
  },
  {
   "cell_type": "code",
   "execution_count": 109,
   "metadata": {},
   "outputs": [],
   "source": [
    "def get_match_data(region, match_id, api_key):\n",
    "    api_url = (\n",
    "        \"https://\" +\n",
    "        region +\n",
    "        \".api.riotgames.com/lol/match/v5/matches/by-puuid/qGeloSe4U5pVnGOLFeLeV7OuwETe3-00mg7v3F6cmM2pWNnl504gkN8IigSdGdTIZQokao3FurDUMA/ids?start=0&count=20\" +\n",
    "        match_id +\n",
    "        \"?api_key=\" +\n",
    "        api_key\n",
    "    )\n",
    "\n",
    "    requests.get(api_url)\n",
    "    data = resp.json()\n",
    "    return data\n",
    "\n",
    "\n",
    "\n"
   ]
  },
  {
   "cell_type": "code",
   "execution_count": 107,
   "metadata": {},
   "outputs": [],
   "source": [
    "def get_puuid(riotIdGameName, region, api_key):\n",
    "    api_url = (\n",
    "        \"https://\" +\n",
    "        region +\n",
    "        \".api.riotgames.com/lol/match/v5/matches/by-puuid/qGeloSe4U5pVnGOLFeLeV7OuwETe3-00mg7v3F6cmM2pWNnl504gkN8IigSdGdTIZQokao3FurDUMA/ids?start=0&count=20\" +\n",
    "        riotIdGameName +\n",
    "        \"?api_key=\" +\n",
    "        api_key\n",
    "    )\n",
    "\n",
    "    print(api_url)\n",
    "\n",
    "    resp = requests.get(api_url)\n",
    "    player_info = resp.json()\n",
    "    puuid = player_info['puuid']\n",
    "    return puuid"
   ]
  },
  {
   "cell_type": "code",
   "execution_count": 36,
   "metadata": {},
   "outputs": [
    {
     "name": "stdout",
     "output_type": "stream",
     "text": [
      "None\n"
     ]
    }
   ],
   "source": [
    "def get_puuid(riotIdGameName, region, api_key):\n",
    "    api_url = (\n",
    "        \"https://\" +\n",
    "        region +\n",
    "        \".api.riotgames.com/riot/account/v1/accounts/by-riot-id/\" +\n",
    "        riotIdGameName +\n",
    "        \"?api_key=\" +\n",
    "        api_key\n",
    "    )\n",
    "\n",
    "    resp = requests.get(api_url)\n",
    "    if resp.status_code == 200:\n",
    "        return resp.json()['puuid']\n",
    "    else:\n",
    "        return None\n",
    "\n",
    "# Example usage\n",
    "riotIdGameName = \"Salt\"\n",
    "region = \"sea\"\n",
    "api_key = \"RGAPI-a141d23f-baa0-46b1-a17d-69ee1e4b1df0\"\n",
    "\n",
    "puuid = get_puuid(riotIdGameName, region, api_key)\n",
    "print(puuid)"
   ]
  },
  {
   "cell_type": "code",
   "execution_count": 37,
   "metadata": {},
   "outputs": [
    {
     "ename": "NameError",
     "evalue": "name 'get_match_ids' is not defined",
     "output_type": "error",
     "traceback": [
      "\u001b[1;31m---------------------------------------------------------------------------\u001b[0m",
      "\u001b[1;31mNameError\u001b[0m                                 Traceback (most recent call last)",
      "Cell \u001b[1;32mIn[37], line 3\u001b[0m\n\u001b[0;32m      1\u001b[0m mass_region \u001b[38;5;241m=\u001b[39m \u001b[38;5;124m'\u001b[39m\u001b[38;5;124mSEA\u001b[39m\u001b[38;5;124m'\u001b[39m\n\u001b[1;32m----> 3\u001b[0m match_ids \u001b[38;5;241m=\u001b[39m \u001b[43mget_match_ids\u001b[49m(puuid, mass_region, api_key)\n\u001b[0;32m      4\u001b[0m match_ids\n",
      "\u001b[1;31mNameError\u001b[0m: name 'get_match_ids' is not defined"
     ]
    }
   ],
   "source": [
    "mass_region = 'SEA'\n",
    "\n",
    "match_ids = get_match_ids(puuid, mass_region, api_key)\n",
    "match_ids"
   ]
  },
  {
   "cell_type": "code",
   "execution_count": 120,
   "metadata": {},
   "outputs": [],
   "source": [
    "def get_match_ids(puuid, mass_region, api_key):\n",
    "    api_url = (\n",
    "        \"https://\" +\n",
    "        mass_region +\n",
    "        \".api.riotgames.com/lol/match/v5/matches/by-puuid/qGeloSe4U5pVnGOLFeLeV7OuwETe3-00mg7v3F6cmM2pWNnl504gkN8IigSdGdTIZQokao3FurDUMA\" +\n",
    "        puuid +\n",
    "        \"/ids?start=0&count=20\" +\n",
    "        \"&api_key=\" +\n",
    "        api_key\n",
    "    )\n",
    "\n",
    "    print(api_url)\n",
    "\n",
    "    resp = requests.get(api_url)\n",
    "    match_ids = resp.json()\n",
    "    return match_ids"
   ]
  },
  {
   "cell_type": "code",
   "execution_count": 126,
   "metadata": {},
   "outputs": [
    {
     "ename": "KeyError",
     "evalue": "0",
     "output_type": "error",
     "traceback": [
      "\u001b[1;31m---------------------------------------------------------------------------\u001b[0m",
      "\u001b[1;31mKeyError\u001b[0m                                  Traceback (most recent call last)",
      "Cell \u001b[1;32mIn[126], line 1\u001b[0m\n\u001b[1;32m----> 1\u001b[0m match_id \u001b[38;5;241m=\u001b[39m \u001b[43mmatch_ids\u001b[49m\u001b[43m[\u001b[49m\u001b[38;5;241;43m0\u001b[39;49m\u001b[43m]\u001b[49m\n\u001b[0;32m      2\u001b[0m match_data \u001b[38;5;241m=\u001b[39m get_match_data(match_id, mass_region, api_key)\n\u001b[0;32m      3\u001b[0m match_data\n",
      "\u001b[1;31mKeyError\u001b[0m: 0"
     ]
    }
   ],
   "source": [
    "match_id = match_ids[0]\n",
    "match_data = get_match_data(match_id, mass_region, api_key)\n",
    "match_data"
   ]
  },
  {
   "cell_type": "code",
   "execution_count": 111,
   "metadata": {},
   "outputs": [],
   "source": [
    "def find_player_data(match_data, puuid):\n",
    "    participants = match_data['metadata']['participants']\n",
    "    player_index = participants.index(puuid)\n",
    "    player_data = match_data['info']['participants'][player_index]\n",
    "    return player_data"
   ]
  },
  {
   "cell_type": "code",
   "execution_count": 112,
   "metadata": {},
   "outputs": [
    {
     "data": {
      "text/plain": [
       "{'allInPings': 0,\n",
       " 'assistMePings': 0,\n",
       " 'assists': 5,\n",
       " 'baronKills': 0,\n",
       " 'basicPings': 0,\n",
       " 'bountyLevel': 2,\n",
       " 'challenges': {'12AssistStreakCount': 0,\n",
       "  'InfernalScalePickup': 0,\n",
       "  'SWARM_DefeatAatrox': 0,\n",
       "  'SWARM_DefeatBriar': 0,\n",
       "  'SWARM_DefeatMiniBosses': 0,\n",
       "  'SWARM_EvolveWeapon': 0,\n",
       "  'SWARM_Have3Passives': 0,\n",
       "  'SWARM_KillEnemy': 0,\n",
       "  'SWARM_PickupGold': 0,\n",
       "  'SWARM_ReachLevel50': 0,\n",
       "  'SWARM_Survive15Min': 0,\n",
       "  'SWARM_WinWith5EvolvedWeapons': 0,\n",
       "  'abilityUses': 382,\n",
       "  'acesBefore15Minutes': 0,\n",
       "  'alliedJungleMonsterKills': 3,\n",
       "  'baronTakedowns': 1,\n",
       "  'blastConeOppositeOpponentCount': 0,\n",
       "  'bountyGold': 0,\n",
       "  'buffsStolen': 0,\n",
       "  'completeSupportQuestInTime': 0,\n",
       "  'controlWardsPlaced': 4,\n",
       "  'damagePerMinute': 687.4396920629099,\n",
       "  'damageTakenOnTeamPercentage': 0.15406650393662208,\n",
       "  'dancedWithRiftHerald': 0,\n",
       "  'deathsByEnemyChamps': 6,\n",
       "  'dodgeSkillShotsSmallWindow': 0,\n",
       "  'doubleAces': 0,\n",
       "  'dragonTakedowns': 2,\n",
       "  'earliestBaron': 1306.902862095,\n",
       "  'earliestDragonTakedown': 1234.2094291800001,\n",
       "  'earlyLaningPhaseGoldExpAdvantage': 0,\n",
       "  'effectiveHealAndShielding': 0,\n",
       "  'elderDragonKillsWithOpposingSoul': 0,\n",
       "  'elderDragonMultikills': 0,\n",
       "  'enemyChampionImmobilizations': 0,\n",
       "  'enemyJungleMonsterKills': 0,\n",
       "  'epicMonsterKillsNearEnemyJungler': 0,\n",
       "  'epicMonsterKillsWithin30SecondsOfSpawn': 1,\n",
       "  'epicMonsterSteals': 0,\n",
       "  'epicMonsterStolenWithoutSmite': 0,\n",
       "  'firstTurretKilled': 1,\n",
       "  'firstTurretKilledTime': 744.1428191040001,\n",
       "  'fistBumpParticipation': 0,\n",
       "  'flawlessAces': 0,\n",
       "  'fullTeamTakedown': 0,\n",
       "  'gameLength': 1950.398476558,\n",
       "  'getTakedownsInAllLanesEarlyJungleAsLaner': 0,\n",
       "  'goldPerMinute': 388.493509169826,\n",
       "  'hadOpenNexus': 0,\n",
       "  'immobilizeAndKillWithAlly': 0,\n",
       "  'initialBuffCount': 0,\n",
       "  'initialCrabCount': 0,\n",
       "  'jungleCsBefore10Minutes': 0,\n",
       "  'junglerTakedownsNearDamagedEpicMonster': 0,\n",
       "  'kTurretsDestroyedBeforePlatesFall': 0,\n",
       "  'kda': 2,\n",
       "  'killAfterHiddenWithAlly': 2,\n",
       "  'killParticipation': 0.46153846153846156,\n",
       "  'killedChampTookFullTeamDamageSurvived': 0,\n",
       "  'killingSprees': 1,\n",
       "  'killsNearEnemyTurret': 0,\n",
       "  'killsOnOtherLanesEarlyJungleAsLaner': 0,\n",
       "  'killsOnRecentlyHealedByAramPack': 0,\n",
       "  'killsUnderOwnTurret': 2,\n",
       "  'killsWithHelpFromEpicMonster': 0,\n",
       "  'knockEnemyIntoTeamAndKill': 0,\n",
       "  'landSkillShotsEarlyGame': 12,\n",
       "  'laneMinionsFirst10Minutes': 57,\n",
       "  'laningPhaseGoldExpAdvantage': 0,\n",
       "  'legendaryCount': 0,\n",
       "  'legendaryItemUsed': [3078, 3004, 3042, 3161],\n",
       "  'lostAnInhibitor': 0,\n",
       "  'maxCsAdvantageOnLaneOpponent': 6,\n",
       "  'maxKillDeficit': 0,\n",
       "  'maxLevelLeadLaneOpponent': 1,\n",
       "  'mejaisFullStackInTime': 0,\n",
       "  'moreEnemyJungleThanOpponent': 0,\n",
       "  'multiKillOneSpell': 0,\n",
       "  'multiTurretRiftHeraldCount': 0,\n",
       "  'multikills': 1,\n",
       "  'multikillsAfterAggressiveFlash': 0,\n",
       "  'outerTurretExecutesBefore10Minutes': 0,\n",
       "  'outnumberedKills': 2,\n",
       "  'outnumberedNexusKill': 0,\n",
       "  'perfectDragonSoulsTaken': 0,\n",
       "  'perfectGame': 0,\n",
       "  'pickKillWithAlly': 7,\n",
       "  'playedChampSelectPosition': 1,\n",
       "  'poroExplosions': 0,\n",
       "  'quickCleanse': 0,\n",
       "  'quickFirstTurret': 0,\n",
       "  'quickSoloKills': 0,\n",
       "  'riftHeraldTakedowns': 0,\n",
       "  'saveAllyFromDeath': 0,\n",
       "  'scuttleCrabKills': 0,\n",
       "  'skillshotsDodged': 15,\n",
       "  'skillshotsHit': 85,\n",
       "  'snowballsHit': 0,\n",
       "  'soloBaronKills': 0,\n",
       "  'soloKills': 2,\n",
       "  'stealthWardsPlaced': 8,\n",
       "  'survivedSingleDigitHpCount': 0,\n",
       "  'survivedThreeImmobilizesInFight': 0,\n",
       "  'takedownOnFirstTurret': 0,\n",
       "  'takedowns': 12,\n",
       "  'takedownsAfterGainingLevelAdvantage': 0,\n",
       "  'takedownsBeforeJungleMinionSpawn': 0,\n",
       "  'takedownsFirstXMinutes': 4,\n",
       "  'takedownsInAlcove': 0,\n",
       "  'takedownsInEnemyFountain': 0,\n",
       "  'teamBaronKills': 1,\n",
       "  'teamDamagePercentage': 0.2063213196374311,\n",
       "  'teamElderDragonKills': 0,\n",
       "  'teamRiftHeraldKills': 0,\n",
       "  'tookLargeDamageSurvived': 0,\n",
       "  'turretPlatesTaken': 2,\n",
       "  'turretTakedowns': 1,\n",
       "  'turretsTakenWithRiftHerald': 0,\n",
       "  'twentyMinionsIn3SecondsCount': 0,\n",
       "  'twoWardsOneSweeperCount': 0,\n",
       "  'unseenRecalls': 0,\n",
       "  'visionScoreAdvantageLaneOpponent': 0.13273561000823975,\n",
       "  'visionScorePerMinute': 0.8572038073416979,\n",
       "  'voidMonsterKill': 1,\n",
       "  'wardTakedowns': 3,\n",
       "  'wardTakedownsBefore20M': 3,\n",
       "  'wardsGuarded': 0},\n",
       " 'champExperience': 14555,\n",
       " 'champLevel': 15,\n",
       " 'championId': 81,\n",
       " 'championName': 'Ezreal',\n",
       " 'championTransform': 0,\n",
       " 'commandPings': 2,\n",
       " 'consumablesPurchased': 8,\n",
       " 'damageDealtToBuildings': 1851,\n",
       " 'damageDealtToObjectives': 10762,\n",
       " 'damageDealtToTurrets': 1851,\n",
       " 'damageSelfMitigated': 11324,\n",
       " 'dangerPings': 0,\n",
       " 'deaths': 6,\n",
       " 'detectorWardsPlaced': 4,\n",
       " 'doubleKills': 1,\n",
       " 'dragonKills': 1,\n",
       " 'eligibleForProgression': True,\n",
       " 'enemyMissingPings': 18,\n",
       " 'enemyVisionPings': 16,\n",
       " 'firstBloodAssist': False,\n",
       " 'firstBloodKill': False,\n",
       " 'firstTowerAssist': False,\n",
       " 'firstTowerKill': False,\n",
       " 'gameEndedInEarlySurrender': False,\n",
       " 'gameEndedInSurrender': False,\n",
       " 'getBackPings': 0,\n",
       " 'goldEarned': 12628,\n",
       " 'goldSpent': 12108,\n",
       " 'holdPings': 0,\n",
       " 'individualPosition': 'BOTTOM',\n",
       " 'inhibitorKills': 0,\n",
       " 'inhibitorTakedowns': 0,\n",
       " 'inhibitorsLost': 1,\n",
       " 'item0': 3078,\n",
       " 'item1': 3042,\n",
       " 'item2': 3123,\n",
       " 'item3': 3158,\n",
       " 'item4': 3161,\n",
       " 'item5': 1055,\n",
       " 'item6': 3363,\n",
       " 'itemsPurchased': 26,\n",
       " 'killingSprees': 2,\n",
       " 'kills': 7,\n",
       " 'lane': 'BOTTOM',\n",
       " 'largestCriticalStrike': 0,\n",
       " 'largestKillingSpree': 3,\n",
       " 'largestMultiKill': 2,\n",
       " 'longestTimeSpentLiving': 526,\n",
       " 'magicDamageDealt': 20779,\n",
       " 'magicDamageDealtToChampions': 10568,\n",
       " 'magicDamageTaken': 2873,\n",
       " 'missions': {'playerScore0': 0,\n",
       "  'playerScore1': 0,\n",
       "  'playerScore2': 0,\n",
       "  'playerScore3': 0,\n",
       "  'playerScore4': 0,\n",
       "  'playerScore5': 0,\n",
       "  'playerScore6': 0,\n",
       "  'playerScore7': 0,\n",
       "  'playerScore8': 0,\n",
       "  'playerScore9': 0,\n",
       "  'playerScore10': 0,\n",
       "  'playerScore11': 0},\n",
       " 'needVisionPings': 0,\n",
       " 'neutralMinionsKilled': 8,\n",
       " 'nexusKills': 0,\n",
       " 'nexusLost': 1,\n",
       " 'nexusTakedowns': 0,\n",
       " 'objectivesStolen': 0,\n",
       " 'objectivesStolenAssists': 0,\n",
       " 'onMyWayPings': 9,\n",
       " 'participantId': 4,\n",
       " 'pentaKills': 0,\n",
       " 'perks': {'statPerks': {'defense': 5001, 'flex': 5008, 'offense': 5005},\n",
       "  'styles': [{'description': 'primaryStyle',\n",
       "    'selections': [{'perk': 8010, 'var1': 42, 'var2': 0, 'var3': 0},\n",
       "     {'perk': 8009, 'var1': 1522, 'var2': 0, 'var3': 0},\n",
       "     {'perk': 9105, 'var1': 21, 'var2': 10, 'var3': 0},\n",
       "     {'perk': 8017, 'var1': 967, 'var2': 0, 'var3': 0}],\n",
       "    'style': 8000},\n",
       "   {'description': 'subStyle',\n",
       "    'selections': [{'perk': 8316, 'var1': 7, 'var2': 10, 'var3': 0},\n",
       "     {'perk': 8345, 'var1': 3, 'var2': 0, 'var3': 0}],\n",
       "    'style': 8300}]},\n",
       " 'physicalDamageDealt': 131220,\n",
       " 'physicalDamageDealtToChampions': 11382,\n",
       " 'physicalDamageTaken': 21130,\n",
       " 'placement': 0,\n",
       " 'playerAugment1': 0,\n",
       " 'playerAugment2': 0,\n",
       " 'playerAugment3': 0,\n",
       " 'playerAugment4': 0,\n",
       " 'playerAugment5': 0,\n",
       " 'playerAugment6': 0,\n",
       " 'playerSubteamId': 0,\n",
       " 'profileIcon': 3232,\n",
       " 'pushPings': 0,\n",
       " 'puuid': 'qGeloSe4U5pVnGOLFeLeV7OuwETe3-00mg7v3F6cmM2pWNnl504gkN8IigSdGdTIZQokao3FurDUMA',\n",
       " 'quadraKills': 0,\n",
       " 'riotIdGameName': 'Salt',\n",
       " 'riotIdTagline': 'UwU',\n",
       " 'role': 'CARRY',\n",
       " 'sightWardsBoughtInGame': 0,\n",
       " 'spell1Casts': 290,\n",
       " 'spell2Casts': 42,\n",
       " 'spell3Casts': 37,\n",
       " 'spell4Casts': 13,\n",
       " 'subteamPlacement': 0,\n",
       " 'summoner1Casts': 4,\n",
       " 'summoner1Id': 21,\n",
       " 'summoner2Casts': 2,\n",
       " 'summoner2Id': 4,\n",
       " 'summonerId': 'kGvHEkr9xyhKlPYzlAPXNOBBUQ5WuefF-MYCgSSRRd24UQvtlJCyTKIm3g',\n",
       " 'summonerLevel': 548,\n",
       " 'summonerName': 'Rushia Pettanko',\n",
       " 'teamEarlySurrendered': False,\n",
       " 'teamId': 100,\n",
       " 'teamPosition': 'BOTTOM',\n",
       " 'timeCCingOthers': 2,\n",
       " 'timePlayed': 1950,\n",
       " 'totalAllyJungleMinionsKilled': 2,\n",
       " 'totalDamageDealt': 161329,\n",
       " 'totalDamageDealtToChampions': 22346,\n",
       " 'totalDamageShieldedOnTeammates': 0,\n",
       " 'totalDamageTaken': 24197,\n",
       " 'totalEnemyJungleMinionsKilled': 0,\n",
       " 'totalHeal': 3223,\n",
       " 'totalHealsOnTeammates': 0,\n",
       " 'totalMinionsKilled': 195,\n",
       " 'totalTimeCCDealt': 42,\n",
       " 'totalTimeSpentDead': 154,\n",
       " 'totalUnitsHealed': 1,\n",
       " 'tripleKills': 0,\n",
       " 'trueDamageDealt': 9330,\n",
       " 'trueDamageDealtToChampions': 395,\n",
       " 'trueDamageTaken': 194,\n",
       " 'turretKills': 1,\n",
       " 'turretTakedowns': 1,\n",
       " 'turretsLost': 8,\n",
       " 'unrealKills': 0,\n",
       " 'visionClearedPings': 0,\n",
       " 'visionScore': 27,\n",
       " 'visionWardsBoughtInGame': 5,\n",
       " 'wardsKilled': 3,\n",
       " 'wardsPlaced': 13,\n",
       " 'win': False}"
      ]
     },
     "execution_count": 112,
     "metadata": {},
     "output_type": "execute_result"
    }
   ],
   "source": [
    "find_player_data(match_data, puuid)"
   ]
  },
  {
   "cell_type": "code",
   "execution_count": 10,
   "metadata": {},
   "outputs": [],
   "source": [
    "def did_win(puuid, match_data):\n",
    "    part_index = match_data[\"metadata\"][\"participants\"].index(puuid)\n",
    "    return match_data['info']['participants'][part_index]['win']"
   ]
  },
  {
   "cell_type": "code",
   "execution_count": 16,
   "metadata": {},
   "outputs": [],
   "source": [
    "region = \"sea\"\n",
    "match_id = \"PH2_66821334\"\n",
    "api_key = \"RGAPI-a141d23f-baa0-46b1-a17d-69ee1e4b1df0\"\n",
    "puuid = \"qGeloSe4U5pVnGOLFeLeV7OuwETe3-00mg7v3F6cmM2pWNnl504gkN8IigSdGdTIZQokao3FurDUMA\""
   ]
  },
  {
   "cell_type": "code",
   "execution_count": 9,
   "metadata": {},
   "outputs": [
    {
     "ename": "NameError",
     "evalue": "name 'get_match_data' is not defined",
     "output_type": "error",
     "traceback": [
      "\u001b[1;31m---------------------------------------------------------------------------\u001b[0m",
      "\u001b[1;31mNameError\u001b[0m                                 Traceback (most recent call last)",
      "Cell \u001b[1;32mIn[9], line 1\u001b[0m\n\u001b[1;32m----> 1\u001b[0m match_data \u001b[38;5;241m=\u001b[39m \u001b[43mget_match_data\u001b[49m(region, match_id, api_key)\n",
      "\u001b[1;31mNameError\u001b[0m: name 'get_match_data' is not defined"
     ]
    }
   ],
   "source": [
    "match_data = get_match_data(region, match_id, api_key)"
   ]
  },
  {
   "cell_type": "code",
   "execution_count": 122,
   "metadata": {},
   "outputs": [
    {
     "name": "stdout",
     "output_type": "stream",
     "text": [
      "False\n"
     ]
    }
   ],
   "source": [
    "print(did_win(puuid, match_data))"
   ]
  },
  {
   "cell_type": "code",
   "execution_count": 12,
   "metadata": {},
   "outputs": [
    {
     "data": {
      "text/plain": [
       "{'status': {'message': 'Forbidden', 'status_code': 403}}"
      ]
     },
     "execution_count": 12,
     "metadata": {},
     "output_type": "execute_result"
    }
   ],
   "source": [
    "resp = requests.get(api_url)\n",
    "matches = resp.json()\n",
    "matches"
   ]
  },
  {
   "cell_type": "code",
   "execution_count": 11,
   "metadata": {},
   "outputs": [
    {
     "ename": "NameError",
     "evalue": "name 'get_match_data' is not defined",
     "output_type": "error",
     "traceback": [
      "\u001b[1;31m---------------------------------------------------------------------------\u001b[0m",
      "\u001b[1;31mNameError\u001b[0m                                 Traceback (most recent call last)",
      "Cell \u001b[1;32mIn[11], line 2\u001b[0m\n\u001b[0;32m      1\u001b[0m \u001b[38;5;28;01mfor\u001b[39;00m match_id \u001b[38;5;129;01min\u001b[39;00m matches:\n\u001b[1;32m----> 2\u001b[0m     match_data \u001b[38;5;241m=\u001b[39m \u001b[43mget_match_data\u001b[49m(region, match_id, api_key)\n\u001b[0;32m      3\u001b[0m     \u001b[38;5;28mprint\u001b[39m(did_win(puuid, match_data))\n",
      "\u001b[1;31mNameError\u001b[0m: name 'get_match_data' is not defined"
     ]
    }
   ],
   "source": [
    "for match_id in matches:\n",
    "    match_data = get_match_data(region, match_id, api_key)\n",
    "    print(did_win(puuid, match_data))"
   ]
  },
  {
   "cell_type": "code",
   "execution_count": null,
   "metadata": {},
   "outputs": [],
   "source": [
    "api_url = \"https://sea.api.riotgames.com/lol/match/v5/matches/by-puuid/qGeloSe4U5pVnGOLFeLeV7OuwETe3-00mg7v3F6cmM2pWNnl504gkN8IigSdGdTIZQokao3FurDUMA/ids?type=ranked&start=0&count=100\""
   ]
  },
  {
   "cell_type": "code",
   "execution_count": 41,
   "metadata": {},
   "outputs": [],
   "source": [
    "def get_match_ids(puuid, mass_region, no_games, queue_id, api_key):\n",
    "    api_url = (\n",
    "        \"https://\" +\n",
    "        mass_region +\n",
    "        \".api.riotgames.com/lol/match/v5/matches/by-puuid/\" +\n",
    "        puuid + \n",
    "        \"/ids?start=0\" + \n",
    "        \"&count=\" +\n",
    "        str(no_games) + \n",
    "        \"&queue=\" + \n",
    "        str(queue_id) + \n",
    "        \"&api_key=\" + \n",
    "        api_key\n",
    "    )\n",
    "    \n",
    "    print(api_url)\n",
    "    \n",
    "    resp = requests.get(api_url)\n",
    "    match_ids = resp.json()\n",
    "    return match_ids   "
   ]
  },
  {
   "cell_type": "code",
   "execution_count": 43,
   "metadata": {},
   "outputs": [
    {
     "ename": "TypeError",
     "evalue": "get_match_ids() missing 1 required positional argument: 'api_key'",
     "output_type": "error",
     "traceback": [
      "\u001b[1;31m---------------------------------------------------------------------------\u001b[0m",
      "\u001b[1;31mTypeError\u001b[0m                                 Traceback (most recent call last)",
      "Cell \u001b[1;32mIn[43], line 3\u001b[0m\n\u001b[0;32m      1\u001b[0m no_games \u001b[38;5;241m=\u001b[39m \u001b[38;5;241m25\u001b[39m \u001b[38;5;66;03m# Leave this as 25 for now, otherwise you may run into issues that we cover shortly!\u001b[39;00m\n\u001b[1;32m----> 3\u001b[0m match_ids \u001b[38;5;241m=\u001b[39m \u001b[43mget_match_ids\u001b[49m\u001b[43m(\u001b[49m\u001b[43mpuuid\u001b[49m\u001b[43m,\u001b[49m\u001b[43m \u001b[49m\u001b[43mmass_region\u001b[49m\u001b[43m,\u001b[49m\u001b[43m \u001b[49m\u001b[43mno_games\u001b[49m\u001b[43m,\u001b[49m\u001b[43m \u001b[49m\u001b[43mapi_key\u001b[49m\u001b[43m)\u001b[49m\n\u001b[0;32m      5\u001b[0m \u001b[38;5;28mprint\u001b[39m(\u001b[38;5;28mlen\u001b[39m(match_ids))\n",
      "\u001b[1;31mTypeError\u001b[0m: get_match_ids() missing 1 required positional argument: 'api_key'"
     ]
    }
   ],
   "source": [
    "matches = get_matches(region, puuid, 100, api_key)"
   ]
  },
  {
   "cell_type": "code",
   "execution_count": 39,
   "metadata": {},
   "outputs": [
    {
     "ename": "AttributeError",
     "evalue": "'dict' object has no attribute 'extend'",
     "output_type": "error",
     "traceback": [
      "\u001b[1;31m---------------------------------------------------------------------------\u001b[0m",
      "\u001b[1;31mAttributeError\u001b[0m                            Traceback (most recent call last)",
      "Cell \u001b[1;32mIn[39], line 1\u001b[0m\n\u001b[1;32m----> 1\u001b[0m matches \u001b[38;5;241m=\u001b[39m \u001b[43mmatches\u001b[49m\u001b[38;5;241;43m.\u001b[39;49m\u001b[43mextend\u001b[49m(matches)\n",
      "\u001b[1;31mAttributeError\u001b[0m: 'dict' object has no attribute 'extend'"
     ]
    }
   ],
   "source": [
    "matches = matches.extend(matches)"
   ]
  },
  {
   "cell_type": "code",
   "execution_count": 40,
   "metadata": {},
   "outputs": [
    {
     "name": "stdout",
     "output_type": "stream",
     "text": [
      "Attempt: 0\n"
     ]
    },
    {
     "ename": "NameError",
     "evalue": "name 'get_match_data' is not defined",
     "output_type": "error",
     "traceback": [
      "\u001b[1;31m---------------------------------------------------------------------------\u001b[0m",
      "\u001b[1;31mNameError\u001b[0m                                 Traceback (most recent call last)",
      "Cell \u001b[1;32mIn[40], line 3\u001b[0m\n\u001b[0;32m      1\u001b[0m \u001b[38;5;28;01mfor\u001b[39;00m i \u001b[38;5;129;01min\u001b[39;00m \u001b[38;5;28mrange\u001b[39m(\u001b[38;5;241m200\u001b[39m):\n\u001b[0;32m      2\u001b[0m     \u001b[38;5;28mprint\u001b[39m(\u001b[38;5;124m\"\u001b[39m\u001b[38;5;124mAttempt:\u001b[39m\u001b[38;5;124m\"\u001b[39m, i)\n\u001b[1;32m----> 3\u001b[0m     match_data \u001b[38;5;241m=\u001b[39m \u001b[43mget_match_data\u001b[49m(match_id, mass_region, api_key)\n\u001b[0;32m      4\u001b[0m     \u001b[38;5;28mprint\u001b[39m(\u001b[38;5;124m\"\u001b[39m\u001b[38;5;124mMatch Duration:\u001b[39m\u001b[38;5;124m\"\u001b[39m, match_data[\u001b[38;5;124m'\u001b[39m\u001b[38;5;124minfo\u001b[39m\u001b[38;5;124m'\u001b[39m][\u001b[38;5;124m'\u001b[39m\u001b[38;5;124mgameDuration\u001b[39m\u001b[38;5;124m'\u001b[39m])\n",
      "\u001b[1;31mNameError\u001b[0m: name 'get_match_data' is not defined"
     ]
    }
   ],
   "source": [
    "for i in range(200):\n",
    "    print(\"Attempt:\", i)\n",
    "    match_data = get_match_data(match_id, mass_region, api_key)\n",
    "    print(\"Match Duration:\", match_data['info']['gameDuration'])"
   ]
  }
 ],
 "metadata": {
  "kernelspec": {
   "display_name": "Python 3",
   "language": "python",
   "name": "python3"
  },
  "language_info": {
   "codemirror_mode": {
    "name": "ipython",
    "version": 3
   },
   "file_extension": ".py",
   "mimetype": "text/x-python",
   "name": "python",
   "nbconvert_exporter": "python",
   "pygments_lexer": "ipython3",
   "version": "3.11.9"
  }
 },
 "nbformat": 4,
 "nbformat_minor": 2
}
